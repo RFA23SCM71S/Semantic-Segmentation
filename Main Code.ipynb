{
  "cells": [
    {
      "cell_type": "code",
      "execution_count": null,
      "metadata": {
        "id": "8PcRsbnodnYG"
      },
      "outputs": [],
      "source": [
        "import numpy as np"
      ]
    },
    {
      "cell_type": "code",
      "source": [
        "from google.colab import drive\n",
        "drive.mount('/content/drive')"
      ],
      "metadata": {
        "colab": {
          "base_uri": "https://localhost:8080/"
        },
        "id": "TlrLK3A2RVd3",
        "outputId": "d5d6edd6-3ec1-441d-f19d-f24bfaa37861"
      },
      "execution_count": null,
      "outputs": [
        {
          "output_type": "stream",
          "name": "stdout",
          "text": [
            "Drive already mounted at /content/drive; to attempt to forcibly remount, call drive.mount(\"/content/drive\", force_remount=True).\n"
          ]
        }
      ]
    },
    {
      "cell_type": "code",
      "execution_count": null,
      "metadata": {
        "id": "0N85QvszvSEG"
      },
      "outputs": [],
      "source": [
        "def load_data1(ground_truth_file, prediction_file):\n",
        "    ground_truth = {}\n",
        "    with open(ground_truth_file, 'r') as f:\n",
        "        for line in f:\n",
        "            image_id_xmin, ymin, xmax, ymax, class_id = line.strip().split(',')\n",
        "            image_id, xmin = image_id_xmin.split(' ')[0], image_id_xmin.split(' ')[1]\n",
        "            if image_id not in ground_truth:\n",
        "                ground_truth[image_id] = {}\n",
        "            ground_truth[image_id] = {'class_id': class_id, 'xmin': float(xmin), 'ymin': float(ymin), 'xmax': float(xmax), 'ymax': float(ymax)}\n",
        "\n",
        "    predictions = {}\n",
        "    with open(prediction_file, 'r') as f:\n",
        "        for line in f:\n",
        "            image_id_xmin, ymin, xmax, ymax, class_id, confidence = line.strip().split(',')\n",
        "            image_id, xmin = image_id_xmin.split(' ')[0], image_id_xmin.split(' ')[1]\n",
        "            if image_id not in predictions:\n",
        "                predictions[image_id] = {}\n",
        "            predictions[image_id] = {'class_id': class_id, 'confidence': float(confidence), 'xmin': float(xmin), 'ymin': float(ymin), 'xmax': float(xmax), 'ymax': float(ymax)}\n",
        "\n",
        "    return ground_truth, predictions\n"
      ]
    },
    {
      "cell_type": "code",
      "execution_count": null,
      "metadata": {
        "id": "VSCvFBugxyVu"
      },
      "outputs": [],
      "source": [
        "ground_truth, predictions = load_data1('/content/drive/MyDrive/CS512/HW4/gt_label.txt', '/content/drive/MyDrive/CS512/HW4/  ')\n",
        "predictions = {key: predictions[key] for key in sorted(predictions,key=lambda x:predictions[x]['confidence'], reverse=True)}"
      ]
    },
    {
      "cell_type": "code",
      "execution_count": null,
      "metadata": {
        "id": "CldSLp41x1LS"
      },
      "outputs": [],
      "source": [
        "def compute_iou1(ground_truth_box, predicted_box):\n",
        "    xmin = max(ground_truth_box['xmin'], predicted_box['xmin'])\n",
        "    ymin = max(ground_truth_box['ymin'], predicted_box['ymin'])\n",
        "    xmax = min(ground_truth_box['xmax'], predicted_box['xmax'])\n",
        "    ymax = min(ground_truth_box['ymax'], predicted_box['ymax'])\n",
        "    if xmin >= xmax or ymin >= ymax:\n",
        "        return 0.0\n",
        "    intersection_area = (xmax - xmin) * (ymax - ymin)\n",
        "    ground_truth_area = (ground_truth_box['xmax'] - ground_truth_box['xmin']) * (ground_truth_box['ymax'] - ground_truth_box['ymin'])\n",
        "    predicted_area = (predicted_box['xmax'] - predicted_box['xmin']) * (predicted_box['ymax'] - predicted_box['ymin'])\n",
        "    union_area = ground_truth_area + predicted_area - intersection_area\n",
        "    iou = intersection_area / union_area\n",
        "    return iou\n"
      ]
    },
    {
      "cell_type": "code",
      "execution_count": null,
      "metadata": {
        "colab": {
          "base_uri": "https://localhost:8080/"
        },
        "id": "wmrqo8D8n_ur",
        "outputId": "9e65af42-1912-4884-fc9f-44b30023b8a2"
      },
      "outputs": [
        {
          "output_type": "stream",
          "name": "stdout",
          "text": [
            " mAP for thresholds  0.25  is:  0.9989029629110797\n",
            " mAP for thresholds  0.5  is:  0.987274401308144\n",
            " mAP for thresholds  0.75  is:  0.9024274274477981\n",
            " mAP for thresholds  0.95  is:  0.0529729625849314\n"
          ]
        }
      ],
      "source": [
        "thresholds =[0.25, 0.50, 0.75, 0.95]\n",
        "for THS in thresholds:\n",
        "  ROC = []\n",
        "  for cl in range(2):\n",
        "    count = 0\n",
        "    TP = []\n",
        "    FP = []\n",
        "    for key1 in predictions:\n",
        "        if int(predictions[key1]['class_id']) == cl and int(ground_truth[key1]['class_id']) == int(predictions[key1]['class_id']):\n",
        "          if compute_iou1(ground_truth[key1], predictions[key1]) >= THS:\n",
        "            TP.append(1)\n",
        "            FP.append(0)\n",
        "            count += 1\n",
        "          else:\n",
        "            FP.append(1)\n",
        "            TP.append(0)\n",
        "    cTP = np.cumsum(TP)\n",
        "    cFP = np.cumsum(FP)\n",
        "    PR = cTP / (cTP + cFP + np.finfo(np.float32).eps)\n",
        "    RC = cTP / count\n",
        "    ROC.append(np.trapz(PR, RC))\n",
        "  print(' mAP for thresholds ',THS, ' is: ',np.mean(ROC))"
      ]
    }
  ],
  "metadata": {
    "colab": {
      "provenance": []
    },
    "kernelspec": {
      "display_name": "Python 3 (ipykernel)",
      "language": "python",
      "name": "python3"
    },
    "language_info": {
      "codemirror_mode": {
        "name": "ipython",
        "version": 3
      },
      "file_extension": ".py",
      "mimetype": "text/x-python",
      "name": "python",
      "nbconvert_exporter": "python",
      "pygments_lexer": "ipython3",
      "version": "3.9.13"
    }
  },
  "nbformat": 4,
  "nbformat_minor": 0
}